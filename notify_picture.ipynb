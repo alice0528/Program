{
  "nbformat": 4,
  "nbformat_minor": 0,
  "metadata": {
    "colab": {
      "name": "notify-picture.ipynb",
      "provenance": [],
      "toc_visible": true,
      "authorship_tag": "ABX9TyPmln8AHJ0nApLHALrRe72k",
      "include_colab_link": true
    },
    "kernelspec": {
      "name": "python3",
      "display_name": "Python 3"
    }
  },
  "cells": [
    {
      "cell_type": "markdown",
      "metadata": {
        "id": "view-in-github",
        "colab_type": "text"
      },
      "source": [
        "<a href=\"https://colab.research.google.com/github/alice0528/Program/blob/master/notify_picture.ipynb\" target=\"_parent\"><img src=\"https://colab.research.google.com/assets/colab-badge.svg\" alt=\"Open In Colab\"/></a>"
      ]
    },
    {
      "cell_type": "code",
      "metadata": {
        "id": "lTGCyRJtWlXV",
        "colab_type": "code",
        "outputId": "571baadd-2e27-4f39-e374-58f0d6166989",
        "colab": {
          "base_uri": "https://localhost:8080/",
          "height": 34
        }
      },
      "source": [
        "import requests, os\n",
        " \n",
        "\"\"\"\n",
        "發送 Line Notify 訊息\n",
        "\"\"\"\n",
        "def lineNotify(token, msg, picURI):\n",
        "    url = \"https://notify-api.line.me/api/notify\"\n",
        "    headers = {\n",
        "        \"Authorization\": \"Bearer \" + token\n",
        "    }\n",
        "   \n",
        "    payload = {'message': msg}\n",
        "    files = {'imageFile': open(picURI, 'rb')}\n",
        "    r = requests.post(url, headers = headers, params = payload, files = files)\n",
        "    return r.status_code\n",
        " \n",
        " \n",
        "#token = os.environ[\"LINE_TEST_TOKEN\"]\n",
        "token=\"8GvKg538T8b19fIZQZlBa50K334Gs6TEgDbQJf4KZdX\"\n",
        "msg = \"Hello Python\"\n",
        "picURI = \"10811210.jpg\"\n",
        " \n",
        " \n",
        "lineNotify(token, msg, picURI)"
      ],
      "execution_count": 0,
      "outputs": [
        {
          "output_type": "execute_result",
          "data": {
            "text/plain": [
              "200"
            ]
          },
          "metadata": {
            "tags": []
          },
          "execution_count": 7
        }
      ]
    }
  ]
}